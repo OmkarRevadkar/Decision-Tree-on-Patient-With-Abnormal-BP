{
 "cells": [
  {
   "cell_type": "code",
   "execution_count": 1,
   "id": "2623b9f3",
   "metadata": {},
   "outputs": [],
   "source": [
    "import numpy as np\n",
    "import pandas as pd\n",
    "pd.set_option('display.max_columns', None)\n",
    "pd.set_option('display.max_rows', None)"
   ]
  },
  {
   "cell_type": "code",
   "execution_count": 2,
   "id": "1ecac01c",
   "metadata": {},
   "outputs": [],
   "source": [
    "bp = pd.read_csv('Patient_with_abnormal_bloodpressure.csv')"
   ]
  },
  {
   "cell_type": "code",
   "execution_count": 3,
   "id": "8877b04e",
   "metadata": {},
   "outputs": [
    {
     "data": {
      "text/html": [
       "<div>\n",
       "<style scoped>\n",
       "    .dataframe tbody tr th:only-of-type {\n",
       "        vertical-align: middle;\n",
       "    }\n",
       "\n",
       "    .dataframe tbody tr th {\n",
       "        vertical-align: top;\n",
       "    }\n",
       "\n",
       "    .dataframe thead th {\n",
       "        text-align: right;\n",
       "    }\n",
       "</style>\n",
       "<table border=\"1\" class=\"dataframe\">\n",
       "  <thead>\n",
       "    <tr style=\"text-align: right;\">\n",
       "      <th></th>\n",
       "      <th>Patient_Number</th>\n",
       "      <th>Blood_Pressure_Abnormality</th>\n",
       "      <th>Level_of_Hemoglobin</th>\n",
       "      <th>Genetic_Pedigree_Coefficient</th>\n",
       "      <th>Age</th>\n",
       "      <th>BMI</th>\n",
       "      <th>Sex</th>\n",
       "      <th>Pregnancy</th>\n",
       "      <th>Smoking</th>\n",
       "      <th>Physical_activity</th>\n",
       "      <th>salt_content_in_the_diet</th>\n",
       "      <th>alcohol_consumption_per_day</th>\n",
       "      <th>Level_of_Stress</th>\n",
       "      <th>Chronic_kidney_disease</th>\n",
       "      <th>Adrenal_and_thyroid_disorders</th>\n",
       "    </tr>\n",
       "  </thead>\n",
       "  <tbody>\n",
       "    <tr>\n",
       "      <th>0</th>\n",
       "      <td>1</td>\n",
       "      <td>1</td>\n",
       "      <td>11.28</td>\n",
       "      <td>0.90</td>\n",
       "      <td>34</td>\n",
       "      <td>23</td>\n",
       "      <td>1</td>\n",
       "      <td>1.0</td>\n",
       "      <td>0</td>\n",
       "      <td>45961</td>\n",
       "      <td>48071</td>\n",
       "      <td>NaN</td>\n",
       "      <td>2</td>\n",
       "      <td>1</td>\n",
       "      <td>1</td>\n",
       "    </tr>\n",
       "    <tr>\n",
       "      <th>1</th>\n",
       "      <td>2</td>\n",
       "      <td>0</td>\n",
       "      <td>9.75</td>\n",
       "      <td>0.23</td>\n",
       "      <td>54</td>\n",
       "      <td>33</td>\n",
       "      <td>1</td>\n",
       "      <td>NaN</td>\n",
       "      <td>0</td>\n",
       "      <td>26106</td>\n",
       "      <td>25333</td>\n",
       "      <td>205.0</td>\n",
       "      <td>3</td>\n",
       "      <td>0</td>\n",
       "      <td>0</td>\n",
       "    </tr>\n",
       "    <tr>\n",
       "      <th>2</th>\n",
       "      <td>3</td>\n",
       "      <td>1</td>\n",
       "      <td>10.79</td>\n",
       "      <td>0.91</td>\n",
       "      <td>70</td>\n",
       "      <td>49</td>\n",
       "      <td>0</td>\n",
       "      <td>NaN</td>\n",
       "      <td>0</td>\n",
       "      <td>9995</td>\n",
       "      <td>29465</td>\n",
       "      <td>67.0</td>\n",
       "      <td>2</td>\n",
       "      <td>1</td>\n",
       "      <td>0</td>\n",
       "    </tr>\n",
       "    <tr>\n",
       "      <th>3</th>\n",
       "      <td>4</td>\n",
       "      <td>0</td>\n",
       "      <td>11.00</td>\n",
       "      <td>0.43</td>\n",
       "      <td>71</td>\n",
       "      <td>50</td>\n",
       "      <td>0</td>\n",
       "      <td>NaN</td>\n",
       "      <td>0</td>\n",
       "      <td>10635</td>\n",
       "      <td>7439</td>\n",
       "      <td>242.0</td>\n",
       "      <td>1</td>\n",
       "      <td>1</td>\n",
       "      <td>0</td>\n",
       "    </tr>\n",
       "    <tr>\n",
       "      <th>4</th>\n",
       "      <td>5</td>\n",
       "      <td>1</td>\n",
       "      <td>14.17</td>\n",
       "      <td>0.83</td>\n",
       "      <td>52</td>\n",
       "      <td>19</td>\n",
       "      <td>0</td>\n",
       "      <td>NaN</td>\n",
       "      <td>0</td>\n",
       "      <td>15619</td>\n",
       "      <td>49644</td>\n",
       "      <td>397.0</td>\n",
       "      <td>2</td>\n",
       "      <td>0</td>\n",
       "      <td>0</td>\n",
       "    </tr>\n",
       "    <tr>\n",
       "      <th>5</th>\n",
       "      <td>6</td>\n",
       "      <td>0</td>\n",
       "      <td>11.64</td>\n",
       "      <td>0.54</td>\n",
       "      <td>23</td>\n",
       "      <td>48</td>\n",
       "      <td>0</td>\n",
       "      <td>NaN</td>\n",
       "      <td>1</td>\n",
       "      <td>27042</td>\n",
       "      <td>7513</td>\n",
       "      <td>NaN</td>\n",
       "      <td>3</td>\n",
       "      <td>0</td>\n",
       "      <td>0</td>\n",
       "    </tr>\n",
       "    <tr>\n",
       "      <th>6</th>\n",
       "      <td>7</td>\n",
       "      <td>1</td>\n",
       "      <td>11.69</td>\n",
       "      <td>0.75</td>\n",
       "      <td>43</td>\n",
       "      <td>41</td>\n",
       "      <td>1</td>\n",
       "      <td>1.0</td>\n",
       "      <td>0</td>\n",
       "      <td>38369</td>\n",
       "      <td>32967</td>\n",
       "      <td>206.0</td>\n",
       "      <td>3</td>\n",
       "      <td>1</td>\n",
       "      <td>1</td>\n",
       "    </tr>\n",
       "    <tr>\n",
       "      <th>7</th>\n",
       "      <td>8</td>\n",
       "      <td>0</td>\n",
       "      <td>12.70</td>\n",
       "      <td>0.41</td>\n",
       "      <td>48</td>\n",
       "      <td>20</td>\n",
       "      <td>0</td>\n",
       "      <td>NaN</td>\n",
       "      <td>0</td>\n",
       "      <td>29781</td>\n",
       "      <td>26749</td>\n",
       "      <td>134.0</td>\n",
       "      <td>2</td>\n",
       "      <td>0</td>\n",
       "      <td>0</td>\n",
       "    </tr>\n",
       "    <tr>\n",
       "      <th>8</th>\n",
       "      <td>9</td>\n",
       "      <td>0</td>\n",
       "      <td>10.88</td>\n",
       "      <td>0.68</td>\n",
       "      <td>72</td>\n",
       "      <td>44</td>\n",
       "      <td>0</td>\n",
       "      <td>NaN</td>\n",
       "      <td>0</td>\n",
       "      <td>814</td>\n",
       "      <td>9607</td>\n",
       "      <td>99.0</td>\n",
       "      <td>3</td>\n",
       "      <td>0</td>\n",
       "      <td>0</td>\n",
       "    </tr>\n",
       "    <tr>\n",
       "      <th>9</th>\n",
       "      <td>10</td>\n",
       "      <td>1</td>\n",
       "      <td>14.56</td>\n",
       "      <td>0.61</td>\n",
       "      <td>40</td>\n",
       "      <td>44</td>\n",
       "      <td>0</td>\n",
       "      <td>NaN</td>\n",
       "      <td>0</td>\n",
       "      <td>1278</td>\n",
       "      <td>12715</td>\n",
       "      <td>95.0</td>\n",
       "      <td>2</td>\n",
       "      <td>0</td>\n",
       "      <td>0</td>\n",
       "    </tr>\n",
       "  </tbody>\n",
       "</table>\n",
       "</div>"
      ],
      "text/plain": [
       "   Patient_Number  Blood_Pressure_Abnormality  Level_of_Hemoglobin  \\\n",
       "0               1                           1                11.28   \n",
       "1               2                           0                 9.75   \n",
       "2               3                           1                10.79   \n",
       "3               4                           0                11.00   \n",
       "4               5                           1                14.17   \n",
       "5               6                           0                11.64   \n",
       "6               7                           1                11.69   \n",
       "7               8                           0                12.70   \n",
       "8               9                           0                10.88   \n",
       "9              10                           1                14.56   \n",
       "\n",
       "   Genetic_Pedigree_Coefficient  Age  BMI  Sex  Pregnancy  Smoking  \\\n",
       "0                          0.90   34   23    1        1.0        0   \n",
       "1                          0.23   54   33    1        NaN        0   \n",
       "2                          0.91   70   49    0        NaN        0   \n",
       "3                          0.43   71   50    0        NaN        0   \n",
       "4                          0.83   52   19    0        NaN        0   \n",
       "5                          0.54   23   48    0        NaN        1   \n",
       "6                          0.75   43   41    1        1.0        0   \n",
       "7                          0.41   48   20    0        NaN        0   \n",
       "8                          0.68   72   44    0        NaN        0   \n",
       "9                          0.61   40   44    0        NaN        0   \n",
       "\n",
       "   Physical_activity  salt_content_in_the_diet  alcohol_consumption_per_day  \\\n",
       "0              45961                     48071                          NaN   \n",
       "1              26106                     25333                        205.0   \n",
       "2               9995                     29465                         67.0   \n",
       "3              10635                      7439                        242.0   \n",
       "4              15619                     49644                        397.0   \n",
       "5              27042                      7513                          NaN   \n",
       "6              38369                     32967                        206.0   \n",
       "7              29781                     26749                        134.0   \n",
       "8                814                      9607                         99.0   \n",
       "9               1278                     12715                         95.0   \n",
       "\n",
       "   Level_of_Stress  Chronic_kidney_disease  Adrenal_and_thyroid_disorders  \n",
       "0                2                       1                              1  \n",
       "1                3                       0                              0  \n",
       "2                2                       1                              0  \n",
       "3                1                       1                              0  \n",
       "4                2                       0                              0  \n",
       "5                3                       0                              0  \n",
       "6                3                       1                              1  \n",
       "7                2                       0                              0  \n",
       "8                3                       0                              0  \n",
       "9                2                       0                              0  "
      ]
     },
     "execution_count": 3,
     "metadata": {},
     "output_type": "execute_result"
    }
   ],
   "source": [
    "bp.head(10)"
   ]
  },
  {
   "cell_type": "code",
   "execution_count": 4,
   "id": "48c4b89c",
   "metadata": {},
   "outputs": [
    {
     "data": {
      "text/plain": [
       "(2000, 15)"
      ]
     },
     "execution_count": 4,
     "metadata": {},
     "output_type": "execute_result"
    }
   ],
   "source": [
    "bp.shape"
   ]
  },
  {
   "cell_type": "code",
   "execution_count": 5,
   "id": "ddaae626",
   "metadata": {},
   "outputs": [
    {
     "data": {
      "text/plain": [
       "Patient_Number                      0\n",
       "Blood_Pressure_Abnormality          0\n",
       "Level_of_Hemoglobin                 0\n",
       "Genetic_Pedigree_Coefficient       92\n",
       "Age                                 0\n",
       "BMI                                 0\n",
       "Sex                                 0\n",
       "Pregnancy                        1558\n",
       "Smoking                             0\n",
       "Physical_activity                   0\n",
       "salt_content_in_the_diet            0\n",
       "alcohol_consumption_per_day       242\n",
       "Level_of_Stress                     0\n",
       "Chronic_kidney_disease              0\n",
       "Adrenal_and_thyroid_disorders       0\n",
       "dtype: int64"
      ]
     },
     "execution_count": 5,
     "metadata": {},
     "output_type": "execute_result"
    }
   ],
   "source": [
    "bp.isnull().sum()"
   ]
  },
  {
   "cell_type": "code",
   "execution_count": 6,
   "id": "736c54a9",
   "metadata": {},
   "outputs": [
    {
     "data": {
      "text/plain": [
       "Pregnancy    1558\n",
       "dtype: int64"
      ]
     },
     "execution_count": 6,
     "metadata": {},
     "output_type": "execute_result"
    }
   ],
   "source": [
    "bp.isnull().sum()[bp.isnull().sum()*100/bp.shape[0] > 50]"
   ]
  },
  {
   "cell_type": "code",
   "execution_count": 7,
   "id": "c76c1801",
   "metadata": {},
   "outputs": [],
   "source": [
    "bp.drop(['Patient_Number','Pregnancy'],axis=1, inplace=True)"
   ]
  },
  {
   "cell_type": "code",
   "execution_count": 8,
   "id": "8c3a2267",
   "metadata": {},
   "outputs": [
    {
     "data": {
      "text/plain": [
       "Genetic_Pedigree_Coefficient     92\n",
       "alcohol_consumption_per_day     242\n",
       "dtype: int64"
      ]
     },
     "execution_count": 8,
     "metadata": {},
     "output_type": "execute_result"
    }
   ],
   "source": [
    "bp.isnull().sum()[bp.isnull().sum()>0]"
   ]
  },
  {
   "cell_type": "code",
   "execution_count": 9,
   "id": "171296bd",
   "metadata": {},
   "outputs": [
    {
     "data": {
      "text/plain": [
       "Genetic_Pedigree_Coefficient\n",
       "0.86    32\n",
       "0.13    30\n",
       "0.63    28\n",
       "0.56    27\n",
       "0.17    27\n",
       "0.99    26\n",
       "0.95    25\n",
       "0.06    25\n",
       "0.25    25\n",
       "0.46    25\n",
       "0.02    24\n",
       "0.39    24\n",
       "0.80    24\n",
       "0.61    24\n",
       "0.41    23\n",
       "0.12    23\n",
       "0.04    23\n",
       "0.01    23\n",
       "0.69    23\n",
       "0.72    23\n",
       "0.76    22\n",
       "0.52    22\n",
       "0.45    22\n",
       "0.55    22\n",
       "0.71    22\n",
       "0.92    21\n",
       "0.51    21\n",
       "0.14    21\n",
       "0.09    21\n",
       "0.75    21\n",
       "0.10    21\n",
       "0.79    21\n",
       "0.08    21\n",
       "0.44    21\n",
       "0.34    20\n",
       "0.49    20\n",
       "0.42    20\n",
       "0.57    20\n",
       "0.54    20\n",
       "0.82    20\n",
       "0.35    20\n",
       "0.26    19\n",
       "0.59    19\n",
       "0.62    19\n",
       "0.33    19\n",
       "0.20    19\n",
       "0.19    19\n",
       "0.18    19\n",
       "0.24    19\n",
       "0.47    19\n",
       "0.98    19\n",
       "0.43    19\n",
       "0.58    19\n",
       "0.31    18\n",
       "0.66    18\n",
       "0.11    18\n",
       "0.21    18\n",
       "0.94    18\n",
       "1.00    18\n",
       "0.90    18\n",
       "0.37    18\n",
       "0.83    18\n",
       "0.97    18\n",
       "0.70    18\n",
       "0.68    18\n",
       "0.30    18\n",
       "0.85    17\n",
       "0.87    17\n",
       "0.38    17\n",
       "0.32    17\n",
       "0.00    17\n",
       "0.03    17\n",
       "0.64    17\n",
       "0.74    16\n",
       "0.36    16\n",
       "0.22    16\n",
       "0.29    16\n",
       "0.84    16\n",
       "0.40    16\n",
       "0.73    16\n",
       "0.77    15\n",
       "0.48    15\n",
       "0.23    15\n",
       "0.96    15\n",
       "0.50    15\n",
       "0.28    15\n",
       "0.60    15\n",
       "0.05    15\n",
       "0.27    14\n",
       "0.89    14\n",
       "0.67    13\n",
       "0.93    13\n",
       "0.88    13\n",
       "0.53    12\n",
       "0.81    12\n",
       "0.07    11\n",
       "0.78    11\n",
       "0.91    11\n",
       "0.16    10\n",
       "0.15     9\n",
       "0.65     9\n",
       "Name: count, dtype: int64"
      ]
     },
     "execution_count": 9,
     "metadata": {},
     "output_type": "execute_result"
    }
   ],
   "source": [
    "bp.Genetic_Pedigree_Coefficient.value_counts()"
   ]
  },
  {
   "cell_type": "code",
   "execution_count": 10,
   "id": "16a459bc",
   "metadata": {},
   "outputs": [
    {
     "data": {
      "text/plain": [
       "alcohol_consumption_per_day\n",
       "253.0    11\n",
       "401.0    10\n",
       "302.0    10\n",
       "144.0    10\n",
       "485.0     9\n",
       "0.0       9\n",
       "347.0     9\n",
       "81.0      8\n",
       "446.0     8\n",
       "180.0     8\n",
       "433.0     8\n",
       "206.0     8\n",
       "263.0     7\n",
       "250.0     7\n",
       "20.0      7\n",
       "159.0     7\n",
       "352.0     7\n",
       "449.0     7\n",
       "176.0     7\n",
       "372.0     7\n",
       "337.0     7\n",
       "87.0      7\n",
       "365.0     7\n",
       "155.0     7\n",
       "409.0     7\n",
       "146.0     7\n",
       "219.0     7\n",
       "211.0     7\n",
       "304.0     7\n",
       "414.0     7\n",
       "459.0     7\n",
       "413.0     6\n",
       "83.0      6\n",
       "103.0     6\n",
       "386.0     6\n",
       "110.0     6\n",
       "464.0     6\n",
       "149.0     6\n",
       "486.0     6\n",
       "309.0     6\n",
       "207.0     6\n",
       "235.0     6\n",
       "444.0     6\n",
       "48.0      6\n",
       "101.0     6\n",
       "94.0      6\n",
       "295.0     6\n",
       "453.0     6\n",
       "31.0      6\n",
       "115.0     6\n",
       "122.0     6\n",
       "353.0     6\n",
       "173.0     6\n",
       "34.0      6\n",
       "371.0     6\n",
       "438.0     6\n",
       "35.0      6\n",
       "356.0     6\n",
       "421.0     6\n",
       "37.0      6\n",
       "40.0      6\n",
       "154.0     6\n",
       "425.0     6\n",
       "79.0      6\n",
       "75.0      6\n",
       "382.0     6\n",
       "483.0     6\n",
       "343.0     6\n",
       "301.0     5\n",
       "308.0     5\n",
       "131.0     5\n",
       "177.0     5\n",
       "476.0     5\n",
       "482.0     5\n",
       "231.0     5\n",
       "273.0     5\n",
       "205.0     5\n",
       "187.0     5\n",
       "495.0     5\n",
       "139.0     5\n",
       "380.0     5\n",
       "80.0      5\n",
       "237.0     5\n",
       "46.0      5\n",
       "120.0     5\n",
       "387.0     5\n",
       "389.0     5\n",
       "86.0      5\n",
       "213.0     5\n",
       "394.0     5\n",
       "325.0     5\n",
       "119.0     5\n",
       "96.0      5\n",
       "151.0     5\n",
       "65.0      5\n",
       "307.0     5\n",
       "160.0     5\n",
       "297.0     5\n",
       "108.0     5\n",
       "111.0     5\n",
       "290.0     5\n",
       "364.0     5\n",
       "67.0      5\n",
       "212.0     5\n",
       "348.0     5\n",
       "6.0       5\n",
       "153.0     5\n",
       "477.0     5\n",
       "90.0      5\n",
       "272.0     5\n",
       "473.0     5\n",
       "226.0     5\n",
       "216.0     5\n",
       "314.0     5\n",
       "32.0      5\n",
       "3.0       5\n",
       "312.0     5\n",
       "294.0     5\n",
       "136.0     5\n",
       "447.0     5\n",
       "439.0     5\n",
       "17.0      5\n",
       "182.0     5\n",
       "264.0     5\n",
       "418.0     5\n",
       "345.0     5\n",
       "84.0      5\n",
       "408.0     5\n",
       "333.0     5\n",
       "52.0      5\n",
       "225.0     5\n",
       "70.0      5\n",
       "457.0     5\n",
       "150.0     5\n",
       "203.0     5\n",
       "41.0      4\n",
       "445.0     4\n",
       "214.0     4\n",
       "24.0      4\n",
       "440.0     4\n",
       "209.0     4\n",
       "378.0     4\n",
       "310.0     4\n",
       "202.0     4\n",
       "99.0      4\n",
       "494.0     4\n",
       "415.0     4\n",
       "61.0      4\n",
       "242.0     4\n",
       "27.0      4\n",
       "11.0      4\n",
       "349.0     4\n",
       "395.0     4\n",
       "291.0     4\n",
       "360.0     4\n",
       "283.0     4\n",
       "248.0     4\n",
       "281.0     4\n",
       "340.0     4\n",
       "91.0      4\n",
       "256.0     4\n",
       "161.0     4\n",
       "221.0     4\n",
       "300.0     4\n",
       "72.0      4\n",
       "18.0      4\n",
       "106.0     4\n",
       "426.0     4\n",
       "93.0      4\n",
       "184.0     4\n",
       "233.0     4\n",
       "484.0     4\n",
       "432.0     4\n",
       "435.0     4\n",
       "369.0     4\n",
       "284.0     4\n",
       "298.0     4\n",
       "128.0     4\n",
       "162.0     4\n",
       "420.0     4\n",
       "491.0     4\n",
       "385.0     4\n",
       "239.0     4\n",
       "197.0     4\n",
       "124.0     4\n",
       "95.0      4\n",
       "370.0     4\n",
       "442.0     4\n",
       "210.0     4\n",
       "223.0     4\n",
       "217.0     4\n",
       "97.0      4\n",
       "375.0     4\n",
       "381.0     4\n",
       "77.0      4\n",
       "55.0      4\n",
       "367.0     4\n",
       "172.0     4\n",
       "38.0      4\n",
       "299.0     4\n",
       "488.0     4\n",
       "329.0     4\n",
       "431.0     4\n",
       "293.0     4\n",
       "109.0     4\n",
       "44.0      4\n",
       "469.0     4\n",
       "174.0     4\n",
       "183.0     4\n",
       "479.0     4\n",
       "200.0     4\n",
       "126.0     4\n",
       "5.0       4\n",
       "468.0     4\n",
       "288.0     4\n",
       "16.0      4\n",
       "82.0      4\n",
       "247.0     4\n",
       "201.0     4\n",
       "471.0     4\n",
       "339.0     4\n",
       "422.0     4\n",
       "130.0     4\n",
       "198.0     4\n",
       "185.0     4\n",
       "338.0     4\n",
       "224.0     4\n",
       "188.0     4\n",
       "400.0     4\n",
       "137.0     4\n",
       "354.0     4\n",
       "379.0     4\n",
       "443.0     4\n",
       "8.0       4\n",
       "316.0     3\n",
       "315.0     3\n",
       "332.0     3\n",
       "321.0     3\n",
       "23.0      3\n",
       "117.0     3\n",
       "266.0     3\n",
       "76.0      3\n",
       "399.0     3\n",
       "186.0     3\n",
       "285.0     3\n",
       "279.0     3\n",
       "29.0      3\n",
       "68.0      3\n",
       "428.0     3\n",
       "193.0     3\n",
       "423.0     3\n",
       "436.0     3\n",
       "461.0     3\n",
       "64.0      3\n",
       "448.0     3\n",
       "358.0     3\n",
       "391.0     3\n",
       "376.0     3\n",
       "175.0     3\n",
       "194.0     3\n",
       "69.0      3\n",
       "390.0     3\n",
       "417.0     3\n",
       "234.0     3\n",
       "407.0     3\n",
       "43.0      3\n",
       "268.0     3\n",
       "470.0     3\n",
       "19.0      3\n",
       "170.0     3\n",
       "107.0     3\n",
       "9.0       3\n",
       "280.0     3\n",
       "277.0     3\n",
       "89.0      3\n",
       "336.0     3\n",
       "328.0     3\n",
       "397.0     3\n",
       "133.0     3\n",
       "195.0     3\n",
       "167.0     3\n",
       "236.0     3\n",
       "134.0     3\n",
       "158.0     3\n",
       "66.0      3\n",
       "271.0     3\n",
       "330.0     3\n",
       "393.0     3\n",
       "374.0     3\n",
       "490.0     3\n",
       "289.0     3\n",
       "58.0      3\n",
       "98.0      3\n",
       "419.0     3\n",
       "54.0      3\n",
       "458.0     3\n",
       "1.0       3\n",
       "462.0     3\n",
       "2.0       3\n",
       "427.0     3\n",
       "411.0     3\n",
       "403.0     3\n",
       "496.0     3\n",
       "492.0     3\n",
       "398.0     3\n",
       "135.0     3\n",
       "480.0     3\n",
       "132.0     3\n",
       "478.0     3\n",
       "121.0     3\n",
       "166.0     3\n",
       "255.0     3\n",
       "351.0     3\n",
       "377.0     3\n",
       "179.0     3\n",
       "208.0     3\n",
       "191.0     3\n",
       "171.0     3\n",
       "63.0      3\n",
       "384.0     3\n",
       "270.0     3\n",
       "33.0      3\n",
       "265.0     3\n",
       "85.0      3\n",
       "460.0     3\n",
       "452.0     3\n",
       "331.0     3\n",
       "156.0     3\n",
       "456.0     3\n",
       "50.0      3\n",
       "323.0     3\n",
       "334.0     3\n",
       "196.0     3\n",
       "306.0     3\n",
       "245.0     3\n",
       "152.0     3\n",
       "51.0      3\n",
       "140.0     3\n",
       "252.0     3\n",
       "269.0     3\n",
       "388.0     3\n",
       "57.0      3\n",
       "138.0     3\n",
       "56.0      3\n",
       "192.0     3\n",
       "320.0     3\n",
       "359.0     2\n",
       "190.0     2\n",
       "71.0      2\n",
       "102.0     2\n",
       "429.0     2\n",
       "199.0     2\n",
       "129.0     2\n",
       "404.0     2\n",
       "437.0     2\n",
       "260.0     2\n",
       "39.0      2\n",
       "243.0     2\n",
       "282.0     2\n",
       "169.0     2\n",
       "114.0     2\n",
       "15.0      2\n",
       "392.0     2\n",
       "405.0     2\n",
       "125.0     2\n",
       "296.0     2\n",
       "324.0     2\n",
       "412.0     2\n",
       "430.0     2\n",
       "25.0      2\n",
       "463.0     2\n",
       "4.0       2\n",
       "53.0      2\n",
       "287.0     2\n",
       "181.0     2\n",
       "60.0      2\n",
       "259.0     2\n",
       "258.0     2\n",
       "215.0     2\n",
       "467.0     2\n",
       "396.0     2\n",
       "168.0     2\n",
       "341.0     2\n",
       "118.0     2\n",
       "499.0     2\n",
       "368.0     2\n",
       "100.0     2\n",
       "227.0     2\n",
       "251.0     2\n",
       "305.0     2\n",
       "373.0     2\n",
       "362.0     2\n",
       "78.0      2\n",
       "466.0     2\n",
       "318.0     2\n",
       "105.0     2\n",
       "257.0     2\n",
       "474.0     2\n",
       "451.0     2\n",
       "487.0     2\n",
       "402.0     2\n",
       "276.0     2\n",
       "240.0     2\n",
       "342.0     2\n",
       "410.0     2\n",
       "189.0     2\n",
       "327.0     2\n",
       "26.0      2\n",
       "49.0      2\n",
       "355.0     2\n",
       "228.0     2\n",
       "74.0      2\n",
       "249.0     2\n",
       "164.0     2\n",
       "350.0     2\n",
       "361.0     2\n",
       "481.0     2\n",
       "230.0     2\n",
       "218.0     2\n",
       "28.0      2\n",
       "319.0     2\n",
       "112.0     2\n",
       "286.0     2\n",
       "36.0      2\n",
       "303.0     2\n",
       "222.0     2\n",
       "475.0     2\n",
       "254.0     2\n",
       "434.0     2\n",
       "450.0     2\n",
       "220.0     2\n",
       "317.0     2\n",
       "73.0      1\n",
       "62.0      1\n",
       "123.0     1\n",
       "47.0      1\n",
       "335.0     1\n",
       "322.0     1\n",
       "13.0      1\n",
       "163.0     1\n",
       "147.0     1\n",
       "148.0     1\n",
       "357.0     1\n",
       "383.0     1\n",
       "311.0     1\n",
       "30.0      1\n",
       "178.0     1\n",
       "267.0     1\n",
       "262.0     1\n",
       "366.0     1\n",
       "141.0     1\n",
       "493.0     1\n",
       "42.0      1\n",
       "454.0     1\n",
       "157.0     1\n",
       "465.0     1\n",
       "292.0     1\n",
       "313.0     1\n",
       "142.0     1\n",
       "204.0     1\n",
       "14.0      1\n",
       "45.0      1\n",
       "104.0     1\n",
       "241.0     1\n",
       "12.0      1\n",
       "278.0     1\n",
       "441.0     1\n",
       "116.0     1\n",
       "246.0     1\n",
       "363.0     1\n",
       "274.0     1\n",
       "127.0     1\n",
       "472.0     1\n",
       "424.0     1\n",
       "229.0     1\n",
       "344.0     1\n",
       "113.0     1\n",
       "497.0     1\n",
       "143.0     1\n",
       "238.0     1\n",
       "88.0      1\n",
       "261.0     1\n",
       "145.0     1\n",
       "21.0      1\n",
       "406.0     1\n",
       "346.0     1\n",
       "244.0     1\n",
       "326.0     1\n",
       "Name: count, dtype: int64"
      ]
     },
     "execution_count": 10,
     "metadata": {},
     "output_type": "execute_result"
    }
   ],
   "source": [
    "bp.alcohol_consumption_per_day.value_counts()"
   ]
  },
  {
   "cell_type": "code",
   "execution_count": 11,
   "id": "c5732189",
   "metadata": {},
   "outputs": [],
   "source": [
    "bp.Genetic_Pedigree_Coefficient.fillna(bp.Genetic_Pedigree_Coefficient.mean(), inplace=True)"
   ]
  },
  {
   "cell_type": "code",
   "execution_count": 12,
   "id": "e2ead9a9",
   "metadata": {},
   "outputs": [],
   "source": [
    "bp.alcohol_consumption_per_day.fillna(bp.alcohol_consumption_per_day.mean(), inplace=True)"
   ]
  },
  {
   "cell_type": "code",
   "execution_count": 13,
   "id": "7f10b500",
   "metadata": {},
   "outputs": [
    {
     "data": {
      "text/plain": [
       "Blood_Pressure_Abnormality       0\n",
       "Level_of_Hemoglobin              0\n",
       "Genetic_Pedigree_Coefficient     0\n",
       "Age                              0\n",
       "BMI                              0\n",
       "Sex                              0\n",
       "Smoking                          0\n",
       "Physical_activity                0\n",
       "salt_content_in_the_diet         0\n",
       "alcohol_consumption_per_day      0\n",
       "Level_of_Stress                  0\n",
       "Chronic_kidney_disease           0\n",
       "Adrenal_and_thyroid_disorders    0\n",
       "dtype: int64"
      ]
     },
     "execution_count": 13,
     "metadata": {},
     "output_type": "execute_result"
    }
   ],
   "source": [
    "bp.isnull().sum()"
   ]
  },
  {
   "cell_type": "code",
   "execution_count": 14,
   "id": "4a78062d",
   "metadata": {},
   "outputs": [
    {
     "name": "stdout",
     "output_type": "stream",
     "text": [
      "<class 'pandas.core.frame.DataFrame'>\n",
      "RangeIndex: 2000 entries, 0 to 1999\n",
      "Data columns (total 13 columns):\n",
      " #   Column                         Non-Null Count  Dtype  \n",
      "---  ------                         --------------  -----  \n",
      " 0   Blood_Pressure_Abnormality     2000 non-null   int64  \n",
      " 1   Level_of_Hemoglobin            2000 non-null   float64\n",
      " 2   Genetic_Pedigree_Coefficient   2000 non-null   float64\n",
      " 3   Age                            2000 non-null   int64  \n",
      " 4   BMI                            2000 non-null   int64  \n",
      " 5   Sex                            2000 non-null   int64  \n",
      " 6   Smoking                        2000 non-null   int64  \n",
      " 7   Physical_activity              2000 non-null   int64  \n",
      " 8   salt_content_in_the_diet       2000 non-null   int64  \n",
      " 9   alcohol_consumption_per_day    2000 non-null   float64\n",
      " 10  Level_of_Stress                2000 non-null   int64  \n",
      " 11  Chronic_kidney_disease         2000 non-null   int64  \n",
      " 12  Adrenal_and_thyroid_disorders  2000 non-null   int64  \n",
      "dtypes: float64(3), int64(10)\n",
      "memory usage: 203.2 KB\n"
     ]
    }
   ],
   "source": [
    "bp.info()"
   ]
  },
  {
   "cell_type": "code",
   "execution_count": 15,
   "id": "db184f44",
   "metadata": {},
   "outputs": [],
   "source": [
    "from sklearn.model_selection import train_test_split"
   ]
  },
  {
   "cell_type": "code",
   "execution_count": 16,
   "id": "6728e74a",
   "metadata": {},
   "outputs": [],
   "source": [
    "bp_train, bp_test = train_test_split(bp, test_size=0.3)"
   ]
  },
  {
   "cell_type": "code",
   "execution_count": 17,
   "id": "1272e6b3",
   "metadata": {},
   "outputs": [],
   "source": [
    "bp_train_y = bp_train.iloc[:,0]\n",
    "bp_test_y = bp_test.iloc[:,0]"
   ]
  },
  {
   "cell_type": "code",
   "execution_count": 18,
   "id": "7f965482",
   "metadata": {},
   "outputs": [],
   "source": [
    "bp_train_x = bp_train.iloc[:,1::]\n",
    "bp_test_x = bp_test.iloc[:,1::]"
   ]
  },
  {
   "cell_type": "code",
   "execution_count": 19,
   "id": "e6edb99f",
   "metadata": {},
   "outputs": [],
   "source": [
    "from sklearn.linear_model import LogisticRegression"
   ]
  },
  {
   "cell_type": "code",
   "execution_count": 20,
   "id": "2db700b3",
   "metadata": {},
   "outputs": [],
   "source": [
    "logi_bp = LogisticRegression()"
   ]
  },
  {
   "cell_type": "code",
   "execution_count": 21,
   "id": "802066fd",
   "metadata": {},
   "outputs": [
    {
     "data": {
      "text/html": [
       "<style>#sk-container-id-1 {color: black;}#sk-container-id-1 pre{padding: 0;}#sk-container-id-1 div.sk-toggleable {background-color: white;}#sk-container-id-1 label.sk-toggleable__label {cursor: pointer;display: block;width: 100%;margin-bottom: 0;padding: 0.3em;box-sizing: border-box;text-align: center;}#sk-container-id-1 label.sk-toggleable__label-arrow:before {content: \"▸\";float: left;margin-right: 0.25em;color: #696969;}#sk-container-id-1 label.sk-toggleable__label-arrow:hover:before {color: black;}#sk-container-id-1 div.sk-estimator:hover label.sk-toggleable__label-arrow:before {color: black;}#sk-container-id-1 div.sk-toggleable__content {max-height: 0;max-width: 0;overflow: hidden;text-align: left;background-color: #f0f8ff;}#sk-container-id-1 div.sk-toggleable__content pre {margin: 0.2em;color: black;border-radius: 0.25em;background-color: #f0f8ff;}#sk-container-id-1 input.sk-toggleable__control:checked~div.sk-toggleable__content {max-height: 200px;max-width: 100%;overflow: auto;}#sk-container-id-1 input.sk-toggleable__control:checked~label.sk-toggleable__label-arrow:before {content: \"▾\";}#sk-container-id-1 div.sk-estimator input.sk-toggleable__control:checked~label.sk-toggleable__label {background-color: #d4ebff;}#sk-container-id-1 div.sk-label input.sk-toggleable__control:checked~label.sk-toggleable__label {background-color: #d4ebff;}#sk-container-id-1 input.sk-hidden--visually {border: 0;clip: rect(1px 1px 1px 1px);clip: rect(1px, 1px, 1px, 1px);height: 1px;margin: -1px;overflow: hidden;padding: 0;position: absolute;width: 1px;}#sk-container-id-1 div.sk-estimator {font-family: monospace;background-color: #f0f8ff;border: 1px dotted black;border-radius: 0.25em;box-sizing: border-box;margin-bottom: 0.5em;}#sk-container-id-1 div.sk-estimator:hover {background-color: #d4ebff;}#sk-container-id-1 div.sk-parallel-item::after {content: \"\";width: 100%;border-bottom: 1px solid gray;flex-grow: 1;}#sk-container-id-1 div.sk-label:hover label.sk-toggleable__label {background-color: #d4ebff;}#sk-container-id-1 div.sk-serial::before {content: \"\";position: absolute;border-left: 1px solid gray;box-sizing: border-box;top: 0;bottom: 0;left: 50%;z-index: 0;}#sk-container-id-1 div.sk-serial {display: flex;flex-direction: column;align-items: center;background-color: white;padding-right: 0.2em;padding-left: 0.2em;position: relative;}#sk-container-id-1 div.sk-item {position: relative;z-index: 1;}#sk-container-id-1 div.sk-parallel {display: flex;align-items: stretch;justify-content: center;background-color: white;position: relative;}#sk-container-id-1 div.sk-item::before, #sk-container-id-1 div.sk-parallel-item::before {content: \"\";position: absolute;border-left: 1px solid gray;box-sizing: border-box;top: 0;bottom: 0;left: 50%;z-index: -1;}#sk-container-id-1 div.sk-parallel-item {display: flex;flex-direction: column;z-index: 1;position: relative;background-color: white;}#sk-container-id-1 div.sk-parallel-item:first-child::after {align-self: flex-end;width: 50%;}#sk-container-id-1 div.sk-parallel-item:last-child::after {align-self: flex-start;width: 50%;}#sk-container-id-1 div.sk-parallel-item:only-child::after {width: 0;}#sk-container-id-1 div.sk-dashed-wrapped {border: 1px dashed gray;margin: 0 0.4em 0.5em 0.4em;box-sizing: border-box;padding-bottom: 0.4em;background-color: white;}#sk-container-id-1 div.sk-label label {font-family: monospace;font-weight: bold;display: inline-block;line-height: 1.2em;}#sk-container-id-1 div.sk-label-container {text-align: center;}#sk-container-id-1 div.sk-container {/* jupyter's `normalize.less` sets `[hidden] { display: none; }` but bootstrap.min.css set `[hidden] { display: none !important; }` so we also need the `!important` here to be able to override the default hidden behavior on the sphinx rendered scikit-learn.org. See: https://github.com/scikit-learn/scikit-learn/issues/21755 */display: inline-block !important;position: relative;}#sk-container-id-1 div.sk-text-repr-fallback {display: none;}</style><div id=\"sk-container-id-1\" class=\"sk-top-container\"><div class=\"sk-text-repr-fallback\"><pre>LogisticRegression()</pre><b>In a Jupyter environment, please rerun this cell to show the HTML representation or trust the notebook. <br />On GitHub, the HTML representation is unable to render, please try loading this page with nbviewer.org.</b></div><div class=\"sk-container\" hidden><div class=\"sk-item\"><div class=\"sk-estimator sk-toggleable\"><input class=\"sk-toggleable__control sk-hidden--visually\" id=\"sk-estimator-id-1\" type=\"checkbox\" checked><label for=\"sk-estimator-id-1\" class=\"sk-toggleable__label sk-toggleable__label-arrow\">LogisticRegression</label><div class=\"sk-toggleable__content\"><pre>LogisticRegression()</pre></div></div></div></div></div>"
      ],
      "text/plain": [
       "LogisticRegression()"
      ]
     },
     "execution_count": 21,
     "metadata": {},
     "output_type": "execute_result"
    }
   ],
   "source": [
    "logi_bp.fit(bp_train_x, bp_train_y)"
   ]
  },
  {
   "cell_type": "code",
   "execution_count": 22,
   "id": "24f308fe",
   "metadata": {},
   "outputs": [
    {
     "data": {
      "text/plain": [
       "array([0, 1, 1, 1, 0, 1, 1, 0, 1, 1, 1, 0, 0, 0, 1, 0, 1, 0, 0, 0, 1, 1,\n",
       "       0, 1, 1, 0, 1, 1, 1, 0, 0, 0, 1, 1, 1, 1, 0, 1, 1, 0, 0, 0, 1, 1,\n",
       "       1, 0, 0, 0, 1, 0, 0, 0, 1, 1, 0, 1, 0, 0, 1, 0, 0, 0, 1, 1, 0, 1,\n",
       "       0, 0, 1, 1, 1, 1, 1, 1, 0, 0, 0, 1, 0, 1, 0, 0, 0, 0, 0, 0, 0, 0,\n",
       "       0, 1, 0, 1, 0, 0, 0, 1, 1, 0, 1, 1, 0, 1, 0, 0, 0, 0, 0, 1, 0, 0,\n",
       "       1, 1, 0, 1, 0, 1, 0, 1, 1, 0, 0, 1, 1, 1, 1, 0, 1, 0, 1, 0, 0, 0,\n",
       "       1, 1, 1, 1, 0, 1, 1, 0, 0, 0, 1, 0, 0, 0, 0, 1, 1, 0, 1, 0, 1, 1,\n",
       "       1, 1, 0, 0, 1, 0, 0, 1, 0, 1, 0, 1, 1, 1, 0, 1, 0, 1, 1, 1, 0, 0,\n",
       "       0, 0, 1, 0, 1, 0, 1, 1, 1, 0, 0, 1, 1, 0, 0, 1, 1, 1, 0, 1, 1, 1,\n",
       "       0, 0, 0, 0, 1, 1, 1, 0, 0, 1, 0, 1, 1, 1, 1, 1, 1, 0, 1, 0, 1, 0,\n",
       "       1, 0, 0, 1, 0, 1, 0, 0, 0, 0, 1, 0, 1, 0, 1, 1, 0, 1, 0, 0, 0, 0,\n",
       "       0, 0, 1, 0, 1, 1, 1, 0, 0, 1, 0, 1, 0, 0, 0, 1, 1, 1, 1, 0, 0, 1,\n",
       "       0, 1, 0, 1, 1, 1, 1, 0, 0, 1, 0, 0, 1, 1, 0, 1, 1, 0, 0, 1, 0, 0,\n",
       "       1, 1, 1, 1, 0, 0, 1, 0, 0, 0, 1, 1, 1, 0, 1, 0, 1, 0, 1, 1, 1, 0,\n",
       "       1, 1, 1, 1, 0, 0, 0, 1, 0, 1, 0, 0, 1, 1, 0, 0, 1, 1, 0, 0, 1, 0,\n",
       "       0, 1, 0, 0, 0, 0, 0, 1, 1, 1, 1, 1, 0, 0, 1, 1, 1, 1, 0, 1, 0, 1,\n",
       "       0, 1, 0, 0, 0, 1, 0, 0, 1, 0, 1, 1, 1, 0, 1, 1, 0, 1, 0, 1, 0, 0,\n",
       "       0, 0, 0, 1, 1, 1, 1, 1, 1, 1, 1, 1, 1, 1, 1, 0, 0, 0, 0, 0, 0, 0,\n",
       "       1, 1, 1, 1, 0, 1, 1, 1, 1, 1, 0, 1, 0, 0, 0, 1, 0, 0, 0, 1, 1, 0,\n",
       "       1, 0, 1, 1, 0, 0, 0, 1, 1, 0, 1, 1, 0, 1, 1, 0, 1, 1, 1, 0, 1, 1,\n",
       "       1, 1, 1, 0, 0, 1, 0, 0, 0, 1, 1, 1, 0, 0, 1, 0, 0, 1, 0, 0, 1, 1,\n",
       "       1, 0, 0, 0, 1, 1, 0, 0, 0, 0, 0, 1, 0, 0, 1, 0, 1, 1, 1, 1, 0, 0,\n",
       "       1, 0, 1, 1, 0, 0, 1, 1, 0, 0, 0, 0, 1, 0, 0, 0, 1, 0, 1, 1, 1, 1,\n",
       "       0, 0, 0, 0, 1, 1, 1, 1, 0, 1, 0, 1, 1, 1, 0, 1, 0, 1, 0, 0, 0, 1,\n",
       "       1, 0, 1, 1, 0, 1, 0, 0, 0, 0, 0, 0, 0, 0, 1, 0, 0, 1, 1, 0, 1, 0,\n",
       "       1, 1, 0, 1, 0, 0, 1, 0, 0, 0, 0, 0, 1, 1, 1, 1, 1, 0, 0, 1, 1, 1,\n",
       "       1, 1, 1, 0, 1, 0, 1, 0, 1, 0, 0, 0, 1, 1, 0, 1, 0, 1, 0, 0, 0, 0,\n",
       "       0, 0, 1, 0, 1, 1], dtype=int64)"
      ]
     },
     "execution_count": 22,
     "metadata": {},
     "output_type": "execute_result"
    }
   ],
   "source": [
    "pred = logi_bp.predict(bp_test_x)\n",
    "pred"
   ]
  },
  {
   "cell_type": "code",
   "execution_count": 23,
   "id": "223aa94f",
   "metadata": {},
   "outputs": [],
   "source": [
    "from sklearn.metrics import confusion_matrix"
   ]
  },
  {
   "cell_type": "code",
   "execution_count": 24,
   "id": "4f53e7d6",
   "metadata": {},
   "outputs": [
    {
     "data": {
      "text/plain": [
       "array([[218,  91],\n",
       "       [ 81, 210]], dtype=int64)"
      ]
     },
     "execution_count": 24,
     "metadata": {},
     "output_type": "execute_result"
    }
   ],
   "source": [
    "bp_tab = confusion_matrix(bp_test_y, pred)\n",
    "bp_tab"
   ]
  },
  {
   "cell_type": "code",
   "execution_count": 25,
   "id": "944b6e55",
   "metadata": {},
   "outputs": [],
   "source": [
    "from sklearn.metrics import accuracy_score\n",
    "from sklearn.metrics import recall_score\n",
    "from sklearn.metrics import precision_score\n",
    "from sklearn.metrics import f1_score\n",
    "from sklearn.metrics import roc_auc_score\n",
    "from sklearn.metrics import roc_curve"
   ]
  },
  {
   "cell_type": "code",
   "execution_count": 26,
   "id": "67bd23f6",
   "metadata": {},
   "outputs": [
    {
     "data": {
      "text/plain": [
       "71.33333333333334"
      ]
     },
     "execution_count": 26,
     "metadata": {},
     "output_type": "execute_result"
    }
   ],
   "source": [
    "accuracy_score(bp_test_y, pred)*100"
   ]
  },
  {
   "cell_type": "code",
   "execution_count": 27,
   "id": "41bfac43",
   "metadata": {},
   "outputs": [
    {
     "data": {
      "text/plain": [
       "72.16494845360825"
      ]
     },
     "execution_count": 27,
     "metadata": {},
     "output_type": "execute_result"
    }
   ],
   "source": [
    "recall_score(bp_test_y, pred)*100"
   ]
  },
  {
   "cell_type": "code",
   "execution_count": 28,
   "id": "21f31520",
   "metadata": {},
   "outputs": [
    {
     "data": {
      "text/plain": [
       "69.76744186046511"
      ]
     },
     "execution_count": 28,
     "metadata": {},
     "output_type": "execute_result"
    }
   ],
   "source": [
    "precision_score(bp_test_y, pred)*100"
   ]
  },
  {
   "cell_type": "code",
   "execution_count": 29,
   "id": "c102996d",
   "metadata": {},
   "outputs": [
    {
     "data": {
      "text/plain": [
       "70.94594594594594"
      ]
     },
     "execution_count": 29,
     "metadata": {},
     "output_type": "execute_result"
    }
   ],
   "source": [
    "f1_score(bp_test_y, pred)*100"
   ]
  },
  {
   "cell_type": "code",
   "execution_count": 30,
   "id": "f4d6ddaa",
   "metadata": {},
   "outputs": [
    {
     "data": {
      "text/plain": [
       "71.357555132953"
      ]
     },
     "execution_count": 30,
     "metadata": {},
     "output_type": "execute_result"
    }
   ],
   "source": [
    "roc_auc_score(bp_test_y, pred)*100"
   ]
  },
  {
   "cell_type": "code",
   "execution_count": 31,
   "id": "b3921ae5",
   "metadata": {},
   "outputs": [
    {
     "data": {
      "text/plain": [
       "array([[0.80370831, 0.19629169],\n",
       "       [0.29633603, 0.70366397],\n",
       "       [0.43098354, 0.56901646],\n",
       "       ...,\n",
       "       [0.5739833 , 0.4260167 ],\n",
       "       [0.32201418, 0.67798582],\n",
       "       [0.16181174, 0.83818826]])"
      ]
     },
     "execution_count": 31,
     "metadata": {},
     "output_type": "execute_result"
    }
   ],
   "source": [
    "pred_proba = logi_bp.predict_proba(bp_test_x)\n",
    "pred_proba"
   ]
  },
  {
   "cell_type": "code",
   "execution_count": 32,
   "id": "921e2d68",
   "metadata": {},
   "outputs": [],
   "source": [
    "fpr,tpr,ther = roc_curve(bp_test_y, pred_proba[:,1])"
   ]
  },
  {
   "cell_type": "code",
   "execution_count": 33,
   "id": "a2c50102",
   "metadata": {},
   "outputs": [],
   "source": [
    "import matplotlib.pyplot as plt"
   ]
  },
  {
   "cell_type": "code",
   "execution_count": 34,
   "id": "38dd7d00",
   "metadata": {},
   "outputs": [
    {
     "data": {
      "text/plain": [
       "Text(0.5, 0.5, 'AUROC Score is 0.5547')"
      ]
     },
     "execution_count": 34,
     "metadata": {},
     "output_type": "execute_result"
    },
    {
     "data": {
      "image/png": "[encoded data removed]",
      "text/plain": [
       "<Figure size 640x480 with 1 Axes>"
      ]
     },
     "metadata": {},
     "output_type": "display_data"
    }
   ],
   "source": [
    "plt.plot(fpr,tpr, color='r')\n",
    "plt.xlabel('fpr')\n",
    "plt.ylabel('tpr')\n",
    "plt.grid()\n",
    "plt.title('AUROC on Blood Pressure Data')\n",
    "plt.text(x=0.5,y=0.5, s='AUROC Score is 0.5547')"
   ]
  },
  {
   "cell_type": "code",
   "execution_count": null,
   "id": "2cd0e8bf",
   "metadata": {},
   "outputs": [],
   "source": []
  },
  {
   "cell_type": "code",
   "execution_count": 35,
   "id": "8dbff720",
   "metadata": {},
   "outputs": [],
   "source": [
    "#Decision Tree Algorithm"
   ]
  },
  {
   "cell_type": "code",
   "execution_count": 36,
   "id": "7eca101b",
   "metadata": {},
   "outputs": [],
   "source": [
    "from sklearn.tree import DecisionTreeClassifier"
   ]
  },
  {
   "cell_type": "code",
   "execution_count": 37,
   "id": "a3c3ea73",
   "metadata": {},
   "outputs": [],
   "source": [
    "dtc = DecisionTreeClassifier()"
   ]
  },
  {
   "cell_type": "code",
   "execution_count": 38,
   "id": "94e6719b",
   "metadata": {},
   "outputs": [
    {
     "data": {
      "text/html": [
       "<style>#sk-container-id-2 {color: black;}#sk-container-id-2 pre{padding: 0;}#sk-container-id-2 div.sk-toggleable {background-color: white;}#sk-container-id-2 label.sk-toggleable__label {cursor: pointer;display: block;width: 100%;margin-bottom: 0;padding: 0.3em;box-sizing: border-box;text-align: center;}#sk-container-id-2 label.sk-toggleable__label-arrow:before {content: \"▸\";float: left;margin-right: 0.25em;color: #696969;}#sk-container-id-2 label.sk-toggleable__label-arrow:hover:before {color: black;}#sk-container-id-2 div.sk-estimator:hover label.sk-toggleable__label-arrow:before {color: black;}#sk-container-id-2 div.sk-toggleable__content {max-height: 0;max-width: 0;overflow: hidden;text-align: left;background-color: #f0f8ff;}#sk-container-id-2 div.sk-toggleable__content pre {margin: 0.2em;color: black;border-radius: 0.25em;background-color: #f0f8ff;}#sk-container-id-2 input.sk-toggleable__control:checked~div.sk-toggleable__content {max-height: 200px;max-width: 100%;overflow: auto;}#sk-container-id-2 input.sk-toggleable__control:checked~label.sk-toggleable__label-arrow:before {content: \"▾\";}#sk-container-id-2 div.sk-estimator input.sk-toggleable__control:checked~label.sk-toggleable__label {background-color: #d4ebff;}#sk-container-id-2 div.sk-label input.sk-toggleable__control:checked~label.sk-toggleable__label {background-color: #d4ebff;}#sk-container-id-2 input.sk-hidden--visually {border: 0;clip: rect(1px 1px 1px 1px);clip: rect(1px, 1px, 1px, 1px);height: 1px;margin: -1px;overflow: hidden;padding: 0;position: absolute;width: 1px;}#sk-container-id-2 div.sk-estimator {font-family: monospace;background-color: #f0f8ff;border: 1px dotted black;border-radius: 0.25em;box-sizing: border-box;margin-bottom: 0.5em;}#sk-container-id-2 div.sk-estimator:hover {background-color: #d4ebff;}#sk-container-id-2 div.sk-parallel-item::after {content: \"\";width: 100%;border-bottom: 1px solid gray;flex-grow: 1;}#sk-container-id-2 div.sk-label:hover label.sk-toggleable__label {background-color: #d4ebff;}#sk-container-id-2 div.sk-serial::before {content: \"\";position: absolute;border-left: 1px solid gray;box-sizing: border-box;top: 0;bottom: 0;left: 50%;z-index: 0;}#sk-container-id-2 div.sk-serial {display: flex;flex-direction: column;align-items: center;background-color: white;padding-right: 0.2em;padding-left: 0.2em;position: relative;}#sk-container-id-2 div.sk-item {position: relative;z-index: 1;}#sk-container-id-2 div.sk-parallel {display: flex;align-items: stretch;justify-content: center;background-color: white;position: relative;}#sk-container-id-2 div.sk-item::before, #sk-container-id-2 div.sk-parallel-item::before {content: \"\";position: absolute;border-left: 1px solid gray;box-sizing: border-box;top: 0;bottom: 0;left: 50%;z-index: -1;}#sk-container-id-2 div.sk-parallel-item {display: flex;flex-direction: column;z-index: 1;position: relative;background-color: white;}#sk-container-id-2 div.sk-parallel-item:first-child::after {align-self: flex-end;width: 50%;}#sk-container-id-2 div.sk-parallel-item:last-child::after {align-self: flex-start;width: 50%;}#sk-container-id-2 div.sk-parallel-item:only-child::after {width: 0;}#sk-container-id-2 div.sk-dashed-wrapped {border: 1px dashed gray;margin: 0 0.4em 0.5em 0.4em;box-sizing: border-box;padding-bottom: 0.4em;background-color: white;}#sk-container-id-2 div.sk-label label {font-family: monospace;font-weight: bold;display: inline-block;line-height: 1.2em;}#sk-container-id-2 div.sk-label-container {text-align: center;}#sk-container-id-2 div.sk-container {/* jupyter's `normalize.less` sets `[hidden] { display: none; }` but bootstrap.min.css set `[hidden] { display: none !important; }` so we also need the `!important` here to be able to override the default hidden behavior on the sphinx rendered scikit-learn.org. See: https://github.com/scikit-learn/scikit-learn/issues/21755 */display: inline-block !important;position: relative;}#sk-container-id-2 div.sk-text-repr-fallback {display: none;}</style><div id=\"sk-container-id-2\" class=\"sk-top-container\"><div class=\"sk-text-repr-fallback\"><pre>DecisionTreeClassifier()</pre><b>In a Jupyter environment, please rerun this cell to show the HTML representation or trust the notebook. <br />On GitHub, the HTML representation is unable to render, please try loading this page with nbviewer.org.</b></div><div class=\"sk-container\" hidden><div class=\"sk-item\"><div class=\"sk-estimator sk-toggleable\"><input class=\"sk-toggleable__control sk-hidden--visually\" id=\"sk-estimator-id-2\" type=\"checkbox\" checked><label for=\"sk-estimator-id-2\" class=\"sk-toggleable__label sk-toggleable__label-arrow\">DecisionTreeClassifier</label><div class=\"sk-toggleable__content\"><pre>DecisionTreeClassifier()</pre></div></div></div></div></div>"
      ],
      "text/plain": [
       "DecisionTreeClassifier()"
      ]
     },
     "execution_count": 38,
     "metadata": {},
     "output_type": "execute_result"
    }
   ],
   "source": [
    "dtc.fit(bp_train_x, bp_train_y)"
   ]
  },
  {
   "cell_type": "code",
   "execution_count": 39,
   "id": "86c6f3a3",
   "metadata": {},
   "outputs": [
    {
     "data": {
      "text/plain": [
       "array([0, 1, 0, 1, 0, 1, 1, 0, 0, 0, 1, 1, 0, 1, 1, 0, 0, 0, 0, 0, 1, 0,\n",
       "       0, 1, 0, 0, 1, 1, 0, 0, 0, 0, 1, 1, 1, 1, 0, 1, 1, 0, 1, 0, 1, 0,\n",
       "       1, 0, 0, 0, 1, 0, 0, 1, 0, 0, 0, 1, 1, 0, 1, 0, 1, 1, 1, 1, 0, 1,\n",
       "       0, 0, 0, 0, 1, 1, 1, 1, 0, 0, 0, 1, 0, 0, 0, 0, 0, 0, 0, 0, 0, 1,\n",
       "       0, 0, 0, 0, 1, 1, 1, 1, 0, 1, 0, 0, 0, 1, 1, 0, 0, 0, 0, 0, 0, 0,\n",
       "       1, 1, 1, 1, 0, 1, 1, 0, 1, 0, 0, 1, 1, 1, 0, 1, 0, 0, 0, 0, 0, 0,\n",
       "       0, 1, 0, 0, 0, 1, 0, 0, 1, 0, 0, 0, 0, 1, 0, 0, 1, 0, 1, 1, 0, 0,\n",
       "       0, 1, 0, 1, 0, 0, 1, 0, 0, 1, 1, 1, 1, 1, 1, 1, 0, 1, 1, 0, 0, 0,\n",
       "       1, 0, 1, 1, 1, 0, 0, 0, 0, 0, 0, 1, 0, 0, 0, 0, 1, 1, 0, 1, 0, 1,\n",
       "       0, 1, 1, 1, 0, 0, 1, 1, 0, 0, 0, 1, 0, 1, 0, 1, 1, 1, 1, 0, 1, 0,\n",
       "       0, 0, 0, 1, 0, 1, 0, 1, 0, 0, 1, 1, 1, 0, 1, 1, 0, 0, 0, 0, 0, 1,\n",
       "       0, 1, 0, 0, 1, 1, 1, 1, 0, 1, 0, 1, 1, 1, 1, 0, 1, 1, 0, 1, 0, 1,\n",
       "       0, 1, 1, 1, 1, 0, 0, 1, 0, 0, 0, 0, 0, 1, 1, 1, 1, 1, 0, 1, 1, 0,\n",
       "       1, 1, 0, 1, 0, 1, 1, 0, 0, 1, 1, 0, 1, 0, 1, 1, 1, 0, 1, 1, 1, 1,\n",
       "       1, 1, 0, 1, 0, 0, 1, 1, 1, 1, 1, 0, 1, 1, 0, 0, 0, 0, 0, 0, 0, 0,\n",
       "       1, 1, 0, 0, 0, 0, 0, 1, 1, 1, 1, 0, 0, 0, 0, 1, 0, 1, 0, 1, 0, 0,\n",
       "       0, 1, 1, 0, 0, 1, 0, 0, 1, 1, 1, 0, 1, 0, 0, 1, 1, 0, 1, 1, 0, 0,\n",
       "       0, 0, 1, 1, 1, 0, 1, 1, 0, 1, 1, 1, 0, 0, 1, 0, 1, 0, 1, 0, 0, 0,\n",
       "       1, 1, 1, 1, 0, 0, 1, 1, 0, 1, 0, 0, 0, 0, 1, 1, 0, 1, 0, 1, 1, 0,\n",
       "       1, 1, 0, 0, 0, 1, 0, 1, 1, 0, 1, 1, 0, 1, 0, 1, 1, 0, 1, 0, 1, 1,\n",
       "       1, 1, 1, 1, 0, 1, 0, 1, 0, 1, 1, 1, 0, 0, 0, 0, 0, 1, 0, 0, 1, 0,\n",
       "       1, 1, 1, 0, 1, 1, 0, 0, 0, 0, 1, 0, 1, 0, 0, 0, 0, 1, 1, 1, 0, 1,\n",
       "       0, 0, 0, 1, 0, 1, 0, 1, 0, 1, 0, 0, 1, 0, 0, 0, 1, 0, 1, 1, 0, 1,\n",
       "       1, 0, 1, 0, 0, 0, 0, 0, 1, 1, 0, 0, 1, 1, 1, 0, 0, 0, 0, 1, 0, 1,\n",
       "       1, 0, 1, 1, 0, 1, 1, 1, 0, 0, 0, 1, 0, 0, 1, 0, 0, 1, 1, 1, 1, 0,\n",
       "       1, 1, 0, 0, 1, 0, 0, 0, 0, 0, 0, 0, 1, 0, 1, 1, 1, 0, 0, 1, 0, 1,\n",
       "       0, 1, 1, 0, 1, 0, 1, 0, 1, 0, 0, 0, 1, 0, 0, 1, 0, 1, 0, 1, 1, 0,\n",
       "       0, 0, 0, 1, 1, 0], dtype=int64)"
      ]
     },
     "execution_count": 39,
     "metadata": {},
     "output_type": "execute_result"
    }
   ],
   "source": [
    "pred = dtc.predict(bp_test_x)\n",
    "pred"
   ]
  },
  {
   "cell_type": "code",
   "execution_count": 40,
   "id": "4ae8e37a",
   "metadata": {},
   "outputs": [
    {
     "data": {
      "text/plain": [
       "array([[264,  45],\n",
       "       [ 52, 239]], dtype=int64)"
      ]
     },
     "execution_count": 40,
     "metadata": {},
     "output_type": "execute_result"
    }
   ],
   "source": [
    "bp_tab_new = confusion_matrix(bp_test_y, pred)\n",
    "bp_tab_new"
   ]
  },
  {
   "cell_type": "code",
   "execution_count": 41,
   "id": "9337fb34",
   "metadata": {},
   "outputs": [
    {
     "data": {
      "text/plain": [
       "83.83333333333334"
      ]
     },
     "execution_count": 41,
     "metadata": {},
     "output_type": "execute_result"
    }
   ],
   "source": [
    "accuracy_score(bp_test_y, pred)*100"
   ]
  },
  {
   "cell_type": "code",
   "execution_count": 42,
   "id": "39f91c6c",
   "metadata": {},
   "outputs": [
    {
     "data": {
      "text/plain": [
       "82.13058419243985"
      ]
     },
     "execution_count": 42,
     "metadata": {},
     "output_type": "execute_result"
    }
   ],
   "source": [
    "recall_score(bp_test_y, pred)*100"
   ]
  },
  {
   "cell_type": "code",
   "execution_count": 43,
   "id": "94c80021",
   "metadata": {},
   "outputs": [
    {
     "data": {
      "text/plain": [
       "84.15492957746478"
      ]
     },
     "execution_count": 43,
     "metadata": {},
     "output_type": "execute_result"
    }
   ],
   "source": [
    "precision_score(bp_test_y, pred)*100"
   ]
  },
  {
   "cell_type": "code",
   "execution_count": 44,
   "id": "8fb3eae6",
   "metadata": {},
   "outputs": [
    {
     "data": {
      "text/plain": [
       "83.1304347826087"
      ]
     },
     "execution_count": 44,
     "metadata": {},
     "output_type": "execute_result"
    }
   ],
   "source": [
    "f1_score(bp_test_y, pred)*100"
   ]
  },
  {
   "cell_type": "code",
   "execution_count": 45,
   "id": "b7accc9b",
   "metadata": {},
   "outputs": [
    {
     "data": {
      "text/plain": [
       "83.7837386981617"
      ]
     },
     "execution_count": 45,
     "metadata": {},
     "output_type": "execute_result"
    }
   ],
   "source": [
    "roc_auc_score(bp_test_y, pred)*100"
   ]
  },
  {
   "cell_type": "code",
   "execution_count": 46,
   "id": "e46e4bc5",
   "metadata": {},
   "outputs": [
    {
     "data": {
      "text/plain": [
       "array([[1., 0.],\n",
       "       [0., 1.],\n",
       "       [1., 0.],\n",
       "       ...,\n",
       "       [0., 1.],\n",
       "       [0., 1.],\n",
       "       [1., 0.]])"
      ]
     },
     "execution_count": 46,
     "metadata": {},
     "output_type": "execute_result"
    }
   ],
   "source": [
    "pred_proba = dtc.predict_proba(bp_test_x)\n",
    "pred_proba"
   ]
  },
  {
   "cell_type": "code",
   "execution_count": 47,
   "id": "4c00ef73",
   "metadata": {},
   "outputs": [],
   "source": [
    "fpr,tpr,ther = roc_curve(bp_test_y,pred_proba[:,1])"
   ]
  },
  {
   "cell_type": "code",
   "execution_count": 48,
   "id": "fab6d88f",
   "metadata": {},
   "outputs": [
    {
     "data": {
      "text/plain": [
       "Text(0.5, 0.5, 'AUROC score is 0.8114')"
      ]
     },
     "execution_count": 48,
     "metadata": {},
     "output_type": "execute_result"
    },
    {
     "data": {
      "image/png": "[encoded data removed]",
      "text/plain": [
       "<Figure size 640x480 with 1 Axes>"
      ]
     },
     "metadata": {},
     "output_type": "display_data"
    }
   ],
   "source": [
    "plt.plot(fpr,tpr,color='r')\n",
    "plt.xlabel('fpr')\n",
    "plt.ylabel('tpr')\n",
    "plt.grid()\n",
    "plt.title('AUROC on Blood pressure Data')\n",
    "plt.text(x=0.5,y=0.5,s='AUROC score is 0.8114')"
   ]
  },
  {
   "cell_type": "code",
   "execution_count": null,
   "id": "dd6a72e8",
   "metadata": {},
   "outputs": [],
   "source": []
  },
  {
   "cell_type": "code",
   "execution_count": null,
   "id": "37113132",
   "metadata": {},
   "outputs": [],
   "source": []
  }
 ],
 "metadata": {
  "kernelspec": {
   "display_name": "Python 3 (ipykernel)",
   "language": "python",
   "name": "python3"
  },
  "language_info": {
   "codemirror_mode": {
    "name": "ipython",
    "version": 3
   },
   "file_extension": ".py",
   "mimetype": "text/x-python",
   "name": "python",
   "nbconvert_exporter": "python",
   "pygments_lexer": "ipython3",
   "version": "3.10.12"
  }
 },
 "nbformat": 4,
 "nbformat_minor": 5
}
